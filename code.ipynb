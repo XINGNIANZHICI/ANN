{
 "cells": [
  {
   "cell_type": "code",
   "execution_count": 1,
   "id": "8137ab9b-7509-4762-b9bf-f6d7ec73b836",
   "metadata": {},
   "outputs": [
    {
     "name": "stdout",
     "output_type": "stream",
     "text": [
      "(22500, 22)\n"
     ]
    },
    {
     "data": {
      "text/html": [
       "<div>\n",
       "<style scoped>\n",
       "    .dataframe tbody tr th:only-of-type {\n",
       "        vertical-align: middle;\n",
       "    }\n",
       "\n",
       "    .dataframe tbody tr th {\n",
       "        vertical-align: top;\n",
       "    }\n",
       "\n",
       "    .dataframe thead th {\n",
       "        text-align: right;\n",
       "    }\n",
       "</style>\n",
       "<table border=\"1\" class=\"dataframe\">\n",
       "  <thead>\n",
       "    <tr style=\"text-align: right;\">\n",
       "      <th></th>\n",
       "      <th>id</th>\n",
       "      <th>age</th>\n",
       "      <th>job</th>\n",
       "      <th>marital</th>\n",
       "      <th>education</th>\n",
       "      <th>default</th>\n",
       "      <th>housing</th>\n",
       "      <th>loan</th>\n",
       "      <th>contact</th>\n",
       "      <th>month</th>\n",
       "      <th>...</th>\n",
       "      <th>campaign</th>\n",
       "      <th>pdays</th>\n",
       "      <th>previous</th>\n",
       "      <th>poutcome</th>\n",
       "      <th>emp_var_rate</th>\n",
       "      <th>cons_price_index</th>\n",
       "      <th>cons_conf_index</th>\n",
       "      <th>lending_rate3m</th>\n",
       "      <th>nr_employed</th>\n",
       "      <th>subscribe</th>\n",
       "    </tr>\n",
       "  </thead>\n",
       "  <tbody>\n",
       "    <tr>\n",
       "      <th>0</th>\n",
       "      <td>1</td>\n",
       "      <td>51</td>\n",
       "      <td>admin.</td>\n",
       "      <td>divorced</td>\n",
       "      <td>professional.course</td>\n",
       "      <td>no</td>\n",
       "      <td>yes</td>\n",
       "      <td>yes</td>\n",
       "      <td>cellular</td>\n",
       "      <td>aug</td>\n",
       "      <td>...</td>\n",
       "      <td>1</td>\n",
       "      <td>112</td>\n",
       "      <td>2</td>\n",
       "      <td>failure</td>\n",
       "      <td>1.4</td>\n",
       "      <td>90.81</td>\n",
       "      <td>-35.53</td>\n",
       "      <td>0.69</td>\n",
       "      <td>5219.74</td>\n",
       "      <td>no</td>\n",
       "    </tr>\n",
       "    <tr>\n",
       "      <th>1</th>\n",
       "      <td>2</td>\n",
       "      <td>50</td>\n",
       "      <td>services</td>\n",
       "      <td>married</td>\n",
       "      <td>high.school</td>\n",
       "      <td>unknown</td>\n",
       "      <td>yes</td>\n",
       "      <td>no</td>\n",
       "      <td>cellular</td>\n",
       "      <td>may</td>\n",
       "      <td>...</td>\n",
       "      <td>1</td>\n",
       "      <td>412</td>\n",
       "      <td>2</td>\n",
       "      <td>nonexistent</td>\n",
       "      <td>-1.8</td>\n",
       "      <td>96.33</td>\n",
       "      <td>-40.58</td>\n",
       "      <td>4.05</td>\n",
       "      <td>4974.79</td>\n",
       "      <td>yes</td>\n",
       "    </tr>\n",
       "    <tr>\n",
       "      <th>2</th>\n",
       "      <td>3</td>\n",
       "      <td>48</td>\n",
       "      <td>blue-collar</td>\n",
       "      <td>divorced</td>\n",
       "      <td>basic.9y</td>\n",
       "      <td>no</td>\n",
       "      <td>no</td>\n",
       "      <td>no</td>\n",
       "      <td>cellular</td>\n",
       "      <td>apr</td>\n",
       "      <td>...</td>\n",
       "      <td>0</td>\n",
       "      <td>1027</td>\n",
       "      <td>1</td>\n",
       "      <td>failure</td>\n",
       "      <td>-1.8</td>\n",
       "      <td>96.33</td>\n",
       "      <td>-44.74</td>\n",
       "      <td>1.50</td>\n",
       "      <td>5022.61</td>\n",
       "      <td>no</td>\n",
       "    </tr>\n",
       "    <tr>\n",
       "      <th>3</th>\n",
       "      <td>4</td>\n",
       "      <td>26</td>\n",
       "      <td>entrepreneur</td>\n",
       "      <td>single</td>\n",
       "      <td>high.school</td>\n",
       "      <td>yes</td>\n",
       "      <td>yes</td>\n",
       "      <td>yes</td>\n",
       "      <td>cellular</td>\n",
       "      <td>aug</td>\n",
       "      <td>...</td>\n",
       "      <td>26</td>\n",
       "      <td>998</td>\n",
       "      <td>0</td>\n",
       "      <td>nonexistent</td>\n",
       "      <td>1.4</td>\n",
       "      <td>97.08</td>\n",
       "      <td>-35.55</td>\n",
       "      <td>5.11</td>\n",
       "      <td>5222.87</td>\n",
       "      <td>yes</td>\n",
       "    </tr>\n",
       "    <tr>\n",
       "      <th>4</th>\n",
       "      <td>5</td>\n",
       "      <td>45</td>\n",
       "      <td>admin.</td>\n",
       "      <td>single</td>\n",
       "      <td>university.degree</td>\n",
       "      <td>no</td>\n",
       "      <td>no</td>\n",
       "      <td>no</td>\n",
       "      <td>cellular</td>\n",
       "      <td>nov</td>\n",
       "      <td>...</td>\n",
       "      <td>1</td>\n",
       "      <td>240</td>\n",
       "      <td>4</td>\n",
       "      <td>success</td>\n",
       "      <td>-3.4</td>\n",
       "      <td>89.82</td>\n",
       "      <td>-33.83</td>\n",
       "      <td>1.17</td>\n",
       "      <td>4884.70</td>\n",
       "      <td>no</td>\n",
       "    </tr>\n",
       "  </tbody>\n",
       "</table>\n",
       "<p>5 rows × 22 columns</p>\n",
       "</div>"
      ],
      "text/plain": [
       "   id  age           job   marital            education  default housing loan  \\\n",
       "0   1   51        admin.  divorced  professional.course       no     yes  yes   \n",
       "1   2   50      services   married          high.school  unknown     yes   no   \n",
       "2   3   48   blue-collar  divorced             basic.9y       no      no   no   \n",
       "3   4   26  entrepreneur    single          high.school      yes     yes  yes   \n",
       "4   5   45        admin.    single    university.degree       no      no   no   \n",
       "\n",
       "    contact month  ... campaign  pdays  previous     poutcome  emp_var_rate  \\\n",
       "0  cellular   aug  ...        1    112         2      failure           1.4   \n",
       "1  cellular   may  ...        1    412         2  nonexistent          -1.8   \n",
       "2  cellular   apr  ...        0   1027         1      failure          -1.8   \n",
       "3  cellular   aug  ...       26    998         0  nonexistent           1.4   \n",
       "4  cellular   nov  ...        1    240         4      success          -3.4   \n",
       "\n",
       "  cons_price_index  cons_conf_index  lending_rate3m  nr_employed  subscribe  \n",
       "0            90.81           -35.53            0.69      5219.74         no  \n",
       "1            96.33           -40.58            4.05      4974.79        yes  \n",
       "2            96.33           -44.74            1.50      5022.61         no  \n",
       "3            97.08           -35.55            5.11      5222.87        yes  \n",
       "4            89.82           -33.83            1.17      4884.70         no  \n",
       "\n",
       "[5 rows x 22 columns]"
      ]
     },
     "execution_count": 1,
     "metadata": {},
     "output_type": "execute_result"
    }
   ],
   "source": [
    "# 通过pandas 进行读取数据\n",
    "import pandas as pd\n",
    "import numpy as np \n",
    "import matplotlib.pyplot as plt\n",
    "import seaborn as sns\n",
    "import warnings\n",
    "warnings.filterwarnings(\"ignore\")\n",
    "df = pd.read_csv('./train.csv')\n",
    "print(df.shape)\n",
    "df.head()"
   ]
  },
  {
   "cell_type": "code",
   "execution_count": 2,
   "id": "900bddf8-ea0b-441e-bf46-e70a42350d98",
   "metadata": {},
   "outputs": [
    {
     "name": "stdout",
     "output_type": "stream",
     "text": [
      "<class 'pandas.core.frame.DataFrame'>\n",
      "RangeIndex: 22500 entries, 0 to 22499\n",
      "Data columns (total 22 columns):\n",
      " #   Column            Non-Null Count  Dtype  \n",
      "---  ------            --------------  -----  \n",
      " 0   id                22500 non-null  int64  \n",
      " 1   age               22500 non-null  int64  \n",
      " 2   job               22500 non-null  object \n",
      " 3   marital           22500 non-null  object \n",
      " 4   education         22500 non-null  object \n",
      " 5   default           22500 non-null  object \n",
      " 6   housing           22500 non-null  object \n",
      " 7   loan              22500 non-null  object \n",
      " 8   contact           22500 non-null  object \n",
      " 9   month             22500 non-null  object \n",
      " 10  day_of_week       22500 non-null  object \n",
      " 11  duration          22500 non-null  int64  \n",
      " 12  campaign          22500 non-null  int64  \n",
      " 13  pdays             22500 non-null  int64  \n",
      " 14  previous          22500 non-null  int64  \n",
      " 15  poutcome          22500 non-null  object \n",
      " 16  emp_var_rate      22500 non-null  float64\n",
      " 17  cons_price_index  22500 non-null  float64\n",
      " 18  cons_conf_index   22500 non-null  float64\n",
      " 19  lending_rate3m    22500 non-null  float64\n",
      " 20  nr_employed       22500 non-null  float64\n",
      " 21  subscribe         22500 non-null  object \n",
      "dtypes: float64(5), int64(6), object(11)\n",
      "memory usage: 3.8+ MB\n"
     ]
    }
   ],
   "source": [
    "# info查看详细信息\n",
    "df.info()"
   ]
  },
  {
   "cell_type": "code",
   "execution_count": 4,
   "id": "f3d4e2ac-4f64-41ae-a80f-8f6c8af9b08d",
   "metadata": {},
   "outputs": [
    {
     "data": {
      "text/plain": [
       "id                  0\n",
       "age                 0\n",
       "job                 0\n",
       "marital             0\n",
       "education           0\n",
       "default             0\n",
       "housing             0\n",
       "loan                0\n",
       "contact             0\n",
       "month               0\n",
       "day_of_week         0\n",
       "duration            0\n",
       "campaign            0\n",
       "pdays               0\n",
       "previous            0\n",
       "poutcome            0\n",
       "emp_var_rate        0\n",
       "cons_price_index    0\n",
       "cons_conf_index     0\n",
       "lending_rate3m      0\n",
       "nr_employed         0\n",
       "subscribe           0\n",
       "dtype: int64"
      ]
     },
     "execution_count": 4,
     "metadata": {},
     "output_type": "execute_result"
    }
   ],
   "source": [
    "# 是否有缺失值\n",
    "df.isna().sum()"
   ]
  },
  {
   "cell_type": "code",
   "execution_count": 5,
   "id": "abf13bdc-eaff-4ded-b050-af4707c2481b",
   "metadata": {},
   "outputs": [
    {
     "data": {
      "text/plain": [
       "<Axes: xlabel='subscribe', ylabel='count'>"
      ]
     },
     "execution_count": 5,
     "metadata": {},
     "output_type": "execute_result"
    },
    {
     "data": {
      "image/png": "[encoded data removed]",
      "text/plain": [
       "<Figure size 640x480 with 1 Axes>"
      ]
     },
     "metadata": {},
     "output_type": "display_data"
    }
   ],
   "source": [
    "sns.countplot(x = df['subscribe'])\n",
    "#数据分布不平衡的，可以使用上采样解决样本不均衡问题"
   ]
  },
  {
   "cell_type": "code",
   "execution_count": 6,
   "id": "1a50d083-fe01-4cd7-8fa0-e68ec2ef55a7",
   "metadata": {},
   "outputs": [
    {
     "data": {
      "text/html": [
       "<div>\n",
       "<style scoped>\n",
       "    .dataframe tbody tr th:only-of-type {\n",
       "        vertical-align: middle;\n",
       "    }\n",
       "\n",
       "    .dataframe tbody tr th {\n",
       "        vertical-align: top;\n",
       "    }\n",
       "\n",
       "    .dataframe thead th {\n",
       "        text-align: right;\n",
       "    }\n",
       "</style>\n",
       "<table border=\"1\" class=\"dataframe\">\n",
       "  <thead>\n",
       "    <tr style=\"text-align: right;\">\n",
       "      <th></th>\n",
       "      <th>id</th>\n",
       "      <th>age</th>\n",
       "      <th>job</th>\n",
       "      <th>marital</th>\n",
       "      <th>education</th>\n",
       "      <th>default</th>\n",
       "      <th>housing</th>\n",
       "      <th>loan</th>\n",
       "      <th>contact</th>\n",
       "      <th>month</th>\n",
       "      <th>...</th>\n",
       "      <th>campaign</th>\n",
       "      <th>pdays</th>\n",
       "      <th>previous</th>\n",
       "      <th>poutcome</th>\n",
       "      <th>emp_var_rate</th>\n",
       "      <th>cons_price_index</th>\n",
       "      <th>cons_conf_index</th>\n",
       "      <th>lending_rate3m</th>\n",
       "      <th>nr_employed</th>\n",
       "      <th>subscribe</th>\n",
       "    </tr>\n",
       "  </thead>\n",
       "  <tbody>\n",
       "    <tr>\n",
       "      <th>0</th>\n",
       "      <td>1</td>\n",
       "      <td>51</td>\n",
       "      <td>admin.</td>\n",
       "      <td>divorced</td>\n",
       "      <td>professional.course</td>\n",
       "      <td>no</td>\n",
       "      <td>yes</td>\n",
       "      <td>yes</td>\n",
       "      <td>cellular</td>\n",
       "      <td>aug</td>\n",
       "      <td>...</td>\n",
       "      <td>1</td>\n",
       "      <td>112</td>\n",
       "      <td>2</td>\n",
       "      <td>failure</td>\n",
       "      <td>1.4</td>\n",
       "      <td>90.81</td>\n",
       "      <td>-35.53</td>\n",
       "      <td>0.69</td>\n",
       "      <td>5219.74</td>\n",
       "      <td>no</td>\n",
       "    </tr>\n",
       "  </tbody>\n",
       "</table>\n",
       "<p>1 rows × 22 columns</p>\n",
       "</div>"
      ],
      "text/plain": [
       "   id  age     job   marital            education default housing loan  \\\n",
       "0   1   51  admin.  divorced  professional.course      no     yes  yes   \n",
       "\n",
       "    contact month  ... campaign  pdays  previous  poutcome  emp_var_rate  \\\n",
       "0  cellular   aug  ...        1    112         2   failure           1.4   \n",
       "\n",
       "  cons_price_index  cons_conf_index  lending_rate3m  nr_employed  subscribe  \n",
       "0            90.81           -35.53            0.69      5219.74         no  \n",
       "\n",
       "[1 rows x 22 columns]"
      ]
     },
     "execution_count": 6,
     "metadata": {},
     "output_type": "execute_result"
    }
   ],
   "source": [
    "df.head(1)"
   ]
  },
  {
   "cell_type": "code",
   "execution_count": 7,
   "id": "6da2ea97-b7bc-43a4-8aa3-8e081b06cddf",
   "metadata": {},
   "outputs": [],
   "source": [
    "# 进行编码\n",
    "from sklearn.preprocessing import LabelEncoder\n",
    "col_list = ['job','marital','education','default','housing','loan','contact','month','day_of_week'\n",
    "           ,'poutcome','subscribe']\n",
    "\n",
    "for col in col_list:\n",
    "    df[col] = LabelEncoder().fit_transform(df[col])"
   ]
  },
  {
   "cell_type": "code",
   "execution_count": 9,
   "id": "2baedda1-7f4d-489e-91f5-a47300b3c5b8",
   "metadata": {},
   "outputs": [
    {
     "name": "stdout",
     "output_type": "stream",
     "text": [
      "(15750, 20) (6750, 20)\n"
     ]
    }
   ],
   "source": [
    "from sklearn.model_selection import train_test_split\n",
    "from sklearn.metrics import accuracy_score, roc_auc_score, classification_report,confusion_matrix,roc_curve,auc\n",
    "from sklearn.preprocessing import MinMaxScaler\n",
    "\n",
    "data = df.drop(['id','subscribe'],axis = 1)\n",
    "label = df['subscribe']\n",
    "\n",
    "# 划分训练集和测试集\n",
    "X_train, X_test, y_train, y_test = train_test_split(data, label, test_size=0.3, random_state=42)\n",
    "\n",
    "print(X_train.shape,X_test.shape)"
   ]
  },
  {
   "cell_type": "code",
   "execution_count": 10,
   "id": "6a3b8865-878f-4064-889d-1e92529e443a",
   "metadata": {},
   "outputs": [
    {
     "name": "stdout",
     "output_type": "stream",
     "text": [
      "Epoch 1/20\n",
      "124/124 [==============================] - 2s 4ms/step - loss: 0.3970 - accuracy: 0.8552 - val_loss: 0.3453 - val_accuracy: 0.8681\n",
      "Epoch 2/20\n",
      "124/124 [==============================] - 0s 3ms/step - loss: 0.3442 - accuracy: 0.8700 - val_loss: 0.3340 - val_accuracy: 0.8683\n",
      "Epoch 3/20\n",
      "124/124 [==============================] - 0s 3ms/step - loss: 0.3373 - accuracy: 0.8702 - val_loss: 0.3348 - val_accuracy: 0.8673\n",
      "Epoch 4/20\n",
      "124/124 [==============================] - 0s 2ms/step - loss: 0.3337 - accuracy: 0.8702 - val_loss: 0.3285 - val_accuracy: 0.8679\n",
      "Epoch 5/20\n",
      "124/124 [==============================] - 0s 3ms/step - loss: 0.3262 - accuracy: 0.8722 - val_loss: 0.3255 - val_accuracy: 0.8668\n",
      "Epoch 6/20\n",
      "124/124 [==============================] - 0s 3ms/step - loss: 0.3206 - accuracy: 0.8747 - val_loss: 0.3156 - val_accuracy: 0.8667\n",
      "Epoch 7/20\n",
      "124/124 [==============================] - 0s 2ms/step - loss: 0.3088 - accuracy: 0.8763 - val_loss: 0.3016 - val_accuracy: 0.8711\n",
      "Epoch 8/20\n",
      "124/124 [==============================] - 0s 2ms/step - loss: 0.3008 - accuracy: 0.8750 - val_loss: 0.3115 - val_accuracy: 0.8698\n",
      "Epoch 9/20\n",
      "124/124 [==============================] - 0s 2ms/step - loss: 0.2964 - accuracy: 0.8754 - val_loss: 0.2956 - val_accuracy: 0.8690\n",
      "Epoch 10/20\n",
      "124/124 [==============================] - 0s 3ms/step - loss: 0.2853 - accuracy: 0.8773 - val_loss: 0.2910 - val_accuracy: 0.8698\n",
      "Epoch 11/20\n",
      "124/124 [==============================] - 0s 2ms/step - loss: 0.2801 - accuracy: 0.8762 - val_loss: 0.2891 - val_accuracy: 0.8704\n",
      "Epoch 12/20\n",
      "124/124 [==============================] - 0s 2ms/step - loss: 0.2780 - accuracy: 0.8776 - val_loss: 0.2971 - val_accuracy: 0.8671\n",
      "Epoch 13/20\n",
      "124/124 [==============================] - 0s 3ms/step - loss: 0.2797 - accuracy: 0.8777 - val_loss: 0.2903 - val_accuracy: 0.8704\n",
      "Epoch 14/20\n",
      "124/124 [==============================] - 0s 3ms/step - loss: 0.2717 - accuracy: 0.8784 - val_loss: 0.2878 - val_accuracy: 0.8713\n",
      "Epoch 15/20\n",
      "124/124 [==============================] - 0s 3ms/step - loss: 0.2695 - accuracy: 0.8809 - val_loss: 0.2880 - val_accuracy: 0.8689\n",
      "Epoch 16/20\n",
      "124/124 [==============================] - 0s 2ms/step - loss: 0.2666 - accuracy: 0.8794 - val_loss: 0.2920 - val_accuracy: 0.8726\n",
      "Epoch 17/20\n",
      "124/124 [==============================] - 0s 3ms/step - loss: 0.2673 - accuracy: 0.8804 - val_loss: 0.2935 - val_accuracy: 0.8704\n",
      "Epoch 18/20\n",
      "124/124 [==============================] - 0s 3ms/step - loss: 0.2670 - accuracy: 0.8819 - val_loss: 0.2983 - val_accuracy: 0.8713\n",
      "Epoch 19/20\n",
      "124/124 [==============================] - 0s 3ms/step - loss: 0.2588 - accuracy: 0.8842 - val_loss: 0.2914 - val_accuracy: 0.8707\n",
      "Epoch 20/20\n",
      "124/124 [==============================] - 0s 2ms/step - loss: 0.2542 - accuracy: 0.8864 - val_loss: 0.2949 - val_accuracy: 0.8724\n",
      "211/211 [==============================] - 0s 990us/step\n"
     ]
    }
   ],
   "source": [
    "# 构建ANN 网络\n",
    "import tensorflow as tf\n",
    "\n",
    "scaler = MinMaxScaler()\n",
    "X_train = scaler.fit_transform(X_train)\n",
    "X_test = scaler.transform(X_test)\n",
    "\n",
    "model = tf.keras.Sequential([\n",
    "    tf.keras.layers.Dense(128, activation='relu', input_shape=(X_train.shape[1],)),\n",
    "    tf.keras.layers.Dense(64, activation='relu'),\n",
    "    tf.keras.layers.Dense(64, activation='relu'),\n",
    "    tf.keras.layers.Dense(32, activation='relu'),\n",
    "    tf.keras.layers.Dropout(0.5),\n",
    "    tf.keras.layers.Dense(1, activation='sigmoid')\n",
    "])\n",
    "\n",
    "# 编译模型\n",
    "model.compile(optimizer='adam',\n",
    "              loss='binary_crossentropy',\n",
    "              metrics=['accuracy'])\n",
    "# 训练模型\n",
    "model.fit(X_train, y_train, epochs=20, batch_size=128, validation_data=(X_test, y_test))\n",
    "\n",
    "# 进行预测\n",
    "predictions = model.predict(X_test)"
   ]
  },
  {
   "cell_type": "code",
   "execution_count": 11,
   "id": "790dc736-fd4c-44ee-927c-51eeac1caca9",
   "metadata": {},
   "outputs": [
    {
     "name": "stdout",
     "output_type": "stream",
     "text": [
      "Classification Report:\n",
      "              precision    recall  f1-score   support\n",
      "\n",
      "           0       0.89      0.97      0.93      5860\n",
      "           1       0.54      0.22      0.32       890\n",
      "\n",
      "    accuracy                           0.87      6750\n",
      "   macro avg       0.72      0.60      0.62      6750\n",
      "weighted avg       0.85      0.87      0.85      6750\n",
      "\n",
      "AUC Score: 0.8503587452544387\n"
     ]
    }
   ],
   "source": [
    "# 将概率值转换为类别标签\n",
    "predicted_labels = (predictions > 0.5).astype(int)\n",
    "\n",
    "# 生成分类报告\n",
    "print(\"Classification Report:\")\n",
    "print(classification_report(y_test, predicted_labels))\n",
    "\n",
    "# 计算AUC\n",
    "auc_score = roc_auc_score(y_test, predictions)\n",
    "print(\"AUC Score:\", auc_score)"
   ]
  },
  {
   "cell_type": "code",
   "execution_count": 12,
   "id": "53f8e3c2-ccde-48cc-b33d-f45750ecdb85",
   "metadata": {},
   "outputs": [
    {
     "data": {
      "image/png": "[encoded data removed]",
      "text/plain": [
       "<Figure size 640x480 with 2 Axes>"
      ]
     },
     "metadata": {},
     "output_type": "display_data"
    }
   ],
   "source": [
    "from mlxtend.plotting import plot_confusion_matrix\n",
    "\n",
    "# 生成混淆矩阵\n",
    "conf_matrix = confusion_matrix(y_test, predicted_labels)\n",
    "\n",
    "# 绘制混淆矩阵\n",
    "plot_confusion_matrix(conf_matrix, show_normed=True,colorbar=True)\n",
    "plt.title('Confusion Matrix')\n",
    "plt.xlabel('Predicted Labels')\n",
    "plt.ylabel('True Labels')\n",
    "plt.show()"
   ]
  },
  {
   "cell_type": "code",
   "execution_count": 13,
   "id": "63be6f8b-e503-4f77-b38e-b80136be3e73",
   "metadata": {},
   "outputs": [
    {
     "data": {
      "image/png": "[encoded data removed]",
      "text/plain": [
       "<Figure size 640x480 with 1 Axes>"
      ]
     },
     "metadata": {},
     "output_type": "display_data"
    }
   ],
   "source": [
    "# 绘制ROC曲线\n",
    "fpr, tpr, thresholds = roc_curve(y_test, predictions)\n",
    "plt.plot(fpr, tpr, color='blue', lw=2, label='ROC curve (area = %0.2f)' % auc_score)\n",
    "plt.plot([0, 1], [0, 1], color='red', linestyle='--')\n",
    "plt.xlim([0.0, 1.0])\n",
    "plt.ylim([0.0, 1.05])\n",
    "plt.xlabel('False Positive Rate')\n",
    "plt.ylabel('True Positive Rate')\n",
    "plt.title('Receiver Operating Characteristic (ROC)')\n",
    "plt.legend(loc=\"lower right\")\n",
    "plt.show()"
   ]
  },
  {
   "cell_type": "code",
   "execution_count": null,
   "id": "0c7ceb6e-c4ae-498e-bdd5-1e694ec33857",
   "metadata": {},
   "outputs": [],
   "source": []
  }
 ],
 "metadata": {
  "kernelspec": {
   "display_name": "Python 3 (ipykernel)",
   "language": "python",
   "name": "python3"
  },
  "language_info": {
   "codemirror_mode": {
    "name": "ipython",
    "version": 3
   },
   "file_extension": ".py",
   "mimetype": "text/x-python",
   "name": "python",
   "nbconvert_exporter": "python",
   "pygments_lexer": "ipython3",
   "version": "3.8.17"
  }
 },
 "nbformat": 4,
 "nbformat_minor": 5
}
